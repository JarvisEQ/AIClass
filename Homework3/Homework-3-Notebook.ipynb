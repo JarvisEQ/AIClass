{
 "cells": [
  {
   "cell_type": "code",
   "execution_count": 23,
   "metadata": {},
   "outputs": [],
   "source": [
    "# imports for the shake of importing\n",
    "\n",
    "import keras\n",
    "import tensorflow as tf\n",
    "from tensorflow import nn \n",
    "import numpy as np\n",
    "import pandas as pd\n",
    "from keras.models import Sequential\n",
    "from keras.applications import NASNetLarge\n",
    "from keras import models, layers, optimizers, backend\n",
    "from keras.callbacks import ModelCheckpoint, ReduceLROnPlateau, TensorBoard"
   ]
  },
  {
   "cell_type": "markdown",
   "metadata": {},
   "source": [
    "# THICC networks ftw?\n",
    "\n",
    "My GPU is hating me, I really wish I had a RTX card right now >_>"
   ]
  },
  {
   "cell_type": "code",
   "execution_count": 25,
   "metadata": {},
   "outputs": [],
   "source": [
    "img_height, img_width = 331, 331  # For NASNetLarge\n",
    "classnames = [\"Background\", \"BMP2\", \"Buk-M1-2\", \"T14\", \"T90\", \"ZSU23\"]\n",
    "classes = len(classnames)"
   ]
  },
  {
   "cell_type": "markdown",
   "metadata": {},
   "source": [
    "## Level 1\n",
    "\n",
    "#### Copied directly from Ugur's code\n",
    "\n",
    "Made some modifications fo that it would fit better in a notebook"
   ]
  },
  {
   "cell_type": "code",
   "execution_count": 26,
   "metadata": {},
   "outputs": [
    {
     "name": "stdout",
     "output_type": "stream",
     "text": [
      "Model: \"sequential_4\"\n",
      "_________________________________________________________________\n",
      "Layer (type)                 Output Shape              Param #   \n",
      "=================================================================\n",
      "NASNet (Model)               (None, 11, 11, 4032)      84916818  \n",
      "_________________________________________________________________\n",
      "global_average_pooling2d_4 ( (None, 4032)              0         \n",
      "_________________________________________________________________\n",
      "dense_4 (Dense)              (None, 32)                129056    \n",
      "_________________________________________________________________\n",
      "dropout_2 (Dropout)          (None, 32)                0         \n",
      "_________________________________________________________________\n",
      "dense_5 (Dense)              (None, 6)                 198       \n",
      "=================================================================\n",
      "Total params: 85,046,072\n",
      "Trainable params: 84,849,404\n",
      "Non-trainable params: 196,668\n",
      "_________________________________________________________________\n"
     ]
    }
   ],
   "source": [
    "conv_base1 = NASNetLarge(weights='imagenet', include_top=False, input_shape=(img_height, img_width, 3))\n",
    "\n",
    "model = models.Sequential()\n",
    "model.add(conv_base1)\n",
    "model.add(layers.GlobalAveragePooling2D())\n",
    "model.add(layers.Dense(32, activation='relu'))\n",
    "model.add(layers.Dropout(0.5))\n",
    "model.add(layers.Dense(classes, activation='softmax'))\n",
    "\n",
    "model.summary()"
   ]
  },
  {
   "cell_type": "code",
   "execution_count": 27,
   "metadata": {},
   "outputs": [],
   "source": [
    "# freezing the base\n",
    "conv_base1.trainable = False\n",
    "\n",
    "model.compile(loss='categorical_crossentropy', \n",
    "              optimizer=optimizers.RMSprop(lr=0.0002, decay=0.0001), \n",
    "              metrics=['acc'])\n",
    "\n",
    "callbacks_list_L1 = [ModelCheckpoint(filepath='./weights', \n",
    "                                     save_weights_only=True, \n",
    "                                     monitor='val_acc', \n",
    "                                     verbose=1, \n",
    "                                     save_best_only=True),\n",
    "                                     ReduceLROnPlateau(monitor='val_acc', \n",
    "                                     factor=0.5, \n",
    "                                     patience=1, \n",
    "                                     verbose=1),\n",
    "                                     TensorBoard(log_dir='./TensorBoard/L1')]"
   ]
  },
  {
   "cell_type": "code",
   "execution_count": null,
   "metadata": {},
   "outputs": [],
   "source": []
  }
 ],
 "metadata": {
  "kernelspec": {
   "display_name": "Python 3",
   "language": "python",
   "name": "python3"
  },
  "language_info": {
   "codemirror_mode": {
    "name": "ipython",
    "version": 3
   },
   "file_extension": ".py",
   "mimetype": "text/x-python",
   "name": "python",
   "nbconvert_exporter": "python",
   "pygments_lexer": "ipython3",
   "version": "3.8.0"
  }
 },
 "nbformat": 4,
 "nbformat_minor": 2
}
