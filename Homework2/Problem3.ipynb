{
 "cells": [
  {
   "cell_type": "code",
   "execution_count": 2,
   "metadata": {
    "colab": {
     "base_uri": "https://localhost:8080/",
     "height": 81
    },
    "colab_type": "code",
    "id": "jvzApDXJJgha",
    "outputId": "65d7b659-e2e9-4d5a-a3fd-6dd113fc2a2d"
   },
   "outputs": [
    {
     "name": "stderr",
     "output_type": "stream",
     "text": [
      "Using TensorFlow backend.\n"
     ]
    }
   ],
   "source": [
    "import numpy as np\n",
    "import pandas as pd\n",
    "import keras\n",
    "import tensorflow as tf\n",
    "import matplotlib.pyplot as plt\n",
    "from sklearn.preprocessing import OneHotEncoder"
   ]
  },
  {
   "cell_type": "code",
   "execution_count": 3,
   "metadata": {
    "colab": {},
    "colab_type": "code",
    "id": "FSJyddqGexl5"
   },
   "outputs": [
    {
     "name": "stdout",
     "output_type": "stream",
     "text": [
      "Downloading data from https://www.cs.toronto.edu/~kriz/cifar-10-python.tar.gz\n",
      "170500096/170498071 [==============================] - 3s 0us/step\n"
     ]
    }
   ],
   "source": [
    "from keras.datasets import cifar10\n",
    "\n",
    "(trainX, trainY), (testX, testY) = cifar10.load_data()\n",
    "\n",
    "trainX = trainX.astype('float32')\n",
    "testX = testX.astype('float32')\n",
    "trainX /= 255\n",
    "testX /= 255"
   ]
  },
  {
   "cell_type": "code",
   "execution_count": 4,
   "metadata": {
    "colab": {
     "base_uri": "https://localhost:8080/",
     "height": 106
    },
    "colab_type": "code",
    "id": "5ZhteUOSa-eg",
    "outputId": "848b2a5a-fd16-439e-d81b-5703a9effc81"
   },
   "outputs": [
    {
     "name": "stderr",
     "output_type": "stream",
     "text": [
      "/home/dingo/.local/lib/python3.7/site-packages/sklearn/preprocessing/_encoders.py:415: FutureWarning: The handling of integer data will change in version 0.22. Currently, the categories are determined based on the range [0, max(values)], while in the future they will be determined based on the unique values.\n",
      "If you want the future behaviour and silence this warning, you can specify \"categories='auto'\".\n",
      "In case you used a LabelEncoder before this OneHotEncoder to convert the categories to integers, then you can now use the OneHotEncoder directly.\n",
      "  warnings.warn(msg, FutureWarning)\n"
     ]
    }
   ],
   "source": [
    "soHot = OneHotEncoder(sparse=False)\n",
    "\n",
    "soHot.fit(trainY)\n",
    "trainY = np.array(soHot.transform(trainY))\n",
    "testY = np.array(soHot.transform(testY))"
   ]
  },
  {
   "cell_type": "markdown",
   "metadata": {
    "colab_type": "text",
    "id": "q79YVIwgaSqB"
   },
   "source": [
    "# Potato Model\n",
    "\n",
    "Does not work b/c it's basically just a preceptron"
   ]
  },
  {
   "cell_type": "code",
   "execution_count": 10,
   "metadata": {
    "colab": {},
    "colab_type": "code",
    "id": "qLgTD80ifsKB"
   },
   "outputs": [],
   "source": [
    "potato = keras.Sequential([\n",
    "    keras.layers.Conv2D(32, (3, 3), padding='same',input_shape=trainX.shape[1:],activation=tf.nn.relu),\n",
    "    keras.layers.Flatten(),\n",
    "    keras.layers.Dense(1, activation=tf.nn.relu),\n",
    "    keras.layers.Dense(10, activation=tf.nn.softmax)\n",
    "])"
   ]
  },
  {
   "cell_type": "code",
   "execution_count": 11,
   "metadata": {
    "colab": {
     "base_uri": "https://localhost:8080/",
     "height": 557
    },
    "colab_type": "code",
    "id": "Xj-STFBDiVMM",
    "outputId": "fb07c8c2-0113-4277-bb61-673ff8365a8a",
    "scrolled": false
   },
   "outputs": [
    {
     "name": "stdout",
     "output_type": "stream",
     "text": [
      "Train on 50000 samples, validate on 10000 samples\n",
      "Epoch 1/10\n",
      "50000/50000 [==============================] - 12s 237us/step - loss: 2.3028 - accuracy: 0.0995 - val_loss: 2.3026 - val_accuracy: 0.1000\n",
      "Epoch 2/10\n",
      "50000/50000 [==============================] - 11s 229us/step - loss: 2.3028 - accuracy: 0.0981 - val_loss: 2.3026 - val_accuracy: 0.1000\n",
      "Epoch 3/10\n",
      "50000/50000 [==============================] - 12s 231us/step - loss: 2.3028 - accuracy: 0.0987 - val_loss: 2.3026 - val_accuracy: 0.1000\n",
      "Epoch 4/10\n",
      "50000/50000 [==============================] - 12s 232us/step - loss: 2.3028 - accuracy: 0.0982 - val_loss: 2.3026 - val_accuracy: 0.1000\n",
      "Epoch 5/10\n",
      "50000/50000 [==============================] - 12s 232us/step - loss: 2.3028 - accuracy: 0.0983 - val_loss: 2.3026 - val_accuracy: 0.1000\n",
      "Epoch 6/10\n",
      "50000/50000 [==============================] - 12s 233us/step - loss: 2.3028 - accuracy: 0.0968 - val_loss: 2.3027 - val_accuracy: 0.1000\n",
      "Epoch 7/10\n",
      "50000/50000 [==============================] - 11s 229us/step - loss: 2.3028 - accuracy: 0.0983 - val_loss: 2.3026 - val_accuracy: 0.1000\n",
      "Epoch 8/10\n",
      "50000/50000 [==============================] - 12s 231us/step - loss: 2.3028 - accuracy: 0.0978 - val_loss: 2.3026 - val_accuracy: 0.1000\n",
      "Epoch 9/10\n",
      "50000/50000 [==============================] - 12s 232us/step - loss: 2.3027 - accuracy: 0.0996 - val_loss: 2.3027 - val_accuracy: 0.1000\n",
      "Epoch 10/10\n",
      "50000/50000 [==============================] - 11s 229us/step - loss: 2.3028 - accuracy: 0.0984 - val_loss: 2.3026 - val_accuracy: 0.1000\n"
     ]
    }
   ],
   "source": [
    "potato.compile(loss='categorical_crossentropy',\n",
    "              optimizer='adam',\n",
    "              metrics=['accuracy'])\n",
    "\n",
    "epochs = 10\n",
    "history = potato.fit(trainX, \n",
    "                      trainY, \n",
    "                      epochs=epochs,  \n",
    "                      validation_data=(testX, testY))"
   ]
  },
  {
   "cell_type": "code",
   "execution_count": 12,
   "metadata": {
    "colab": {
     "base_uri": "https://localhost:8080/",
     "height": 86
    },
    "colab_type": "code",
    "id": "ALoF8u2Xisk6",
    "outputId": "b7bb93ab-ce29-4e46-b6d9-c9b4de5a592c"
   },
   "outputs": [
    {
     "name": "stdout",
     "output_type": "stream",
     "text": [
      "10000/10000 [==============================] - 1s 95us/step\n",
      "Long live the potato!\n",
      "Test accuracy: 0.10000000149011612\n",
      "Test Loss: 2.3026190574645997\n"
     ]
    }
   ],
   "source": [
    "test_loss , test_acc = potato.evaluate(testX, testY)\n",
    "\n",
    "print('Long live the potato!')\n",
    "print('Test accuracy:', test_acc)\n",
    "print('Test Loss:', test_loss)"
   ]
  },
  {
   "cell_type": "code",
   "execution_count": 13,
   "metadata": {
    "colab": {
     "base_uri": "https://localhost:8080/",
     "height": 296
    },
    "colab_type": "code",
    "id": "amqPNqHUseDd",
    "outputId": "3a3bccae-114a-4d5d-ba84-85ce56751f00"
   },
   "outputs": [
    {
     "data": {
      "image/png": "[encoded data removed]",
      "text/plain": [
       "<Figure size 432x288 with 1 Axes>"
      ]
     },
     "metadata": {
      "needs_background": "light"
     },
     "output_type": "display_data"
    }
   ],
   "source": [
    "histoire = history.history\n",
    "loss_values = histoire['loss']\n",
    "test_loss_values = histoire['val_loss']\n",
    "epochs_range = range(1, epochs + 1)\n",
    "\n",
    "plt.plot(epochs_range, loss_values, 'bo', label='Training loss')\n",
    "plt.plot(epochs_range, test_loss_values, 'ro', label='Test loss')\n",
    "plt.title('Training and test loss')\n",
    "plt.xlabel('Epochs')\n",
    "plt.ylabel('Loss')\n",
    "plt.legend()\n",
    "plt.show()"
   ]
  },
  {
   "cell_type": "markdown",
   "metadata": {
    "colab_type": "text",
    "id": "qhldJA9Jsftj"
   },
   "source": [
    "# Overfitted Model\n",
    "\n",
    "This model doesn't do a good job of generalising.\n",
    "\n",
    "Trained for way too many epochs, and has no dropout layers :("
   ]
  },
  {
   "cell_type": "code",
   "execution_count": 35,
   "metadata": {
    "colab": {},
    "colab_type": "code",
    "id": "_gh4H8FjsexU"
   },
   "outputs": [],
   "source": [
    "trashPotato = keras.Sequential([\n",
    "    keras.layers.Conv2D(32, (3, 3), padding='same',input_shape=trainX.shape[1:],activation=tf.nn.relu),\n",
    "    keras.layers.Conv2D(32, (3, 3), padding='same',activation=tf.nn.relu),\n",
    "    keras.layers.MaxPooling2D(pool_size=(2, 2)),\n",
    "    keras.layers.Conv2D(64, (3, 3), padding='same',activation=tf.nn.relu),\n",
    "    keras.layers.Conv2D(64, (3, 3), padding='same',activation=tf.nn.relu),\n",
    "    keras.layers.MaxPooling2D(pool_size=(2, 2)),\n",
    "    keras.layers.Flatten(),\n",
    "    keras.layers.Dense(512, activation=tf.nn.relu),\n",
    "    keras.layers.Dense(10, activation=tf.nn.softmax)\n",
    "])"
   ]
  },
  {
   "cell_type": "code",
   "execution_count": 36,
   "metadata": {
    "colab": {
     "base_uri": "https://localhost:8080/",
     "height": 345
    },
    "colab_type": "code",
    "id": "wj6479ggzhwp",
    "outputId": "08773c73-eeb9-4c8f-a90c-d12023fb1ea2"
   },
   "outputs": [
    {
     "name": "stdout",
     "output_type": "stream",
     "text": [
      "Train on 50000 samples, validate on 10000 samples\n",
      "Epoch 1/50\n",
      "50000/50000 [==============================] - 54s 1ms/step - loss: 1.3108 - accuracy: 0.5259 - val_loss: 0.9969 - val_accuracy: 0.6483\n",
      "Epoch 2/50\n",
      "50000/50000 [==============================] - 54s 1ms/step - loss: 0.8461 - accuracy: 0.7028 - val_loss: 0.8369 - val_accuracy: 0.7108\n",
      "Epoch 3/50\n",
      "50000/50000 [==============================] - 55s 1ms/step - loss: 0.6442 - accuracy: 0.7752 - val_loss: 0.8154 - val_accuracy: 0.7239\n",
      "Epoch 4/50\n",
      "50000/50000 [==============================] - 56s 1ms/step - loss: 0.4742 - accuracy: 0.8337 - val_loss: 0.7822 - val_accuracy: 0.7418\n",
      "Epoch 5/50\n",
      "50000/50000 [==============================] - 57s 1ms/step - loss: 0.3257 - accuracy: 0.8863 - val_loss: 0.8824 - val_accuracy: 0.7485\n",
      "Epoch 6/50\n",
      "50000/50000 [==============================] - 56s 1ms/step - loss: 0.2079 - accuracy: 0.9274 - val_loss: 1.0237 - val_accuracy: 0.7491\n",
      "Epoch 7/50\n",
      "50000/50000 [==============================] - 56s 1ms/step - loss: 0.1554 - accuracy: 0.9454 - val_loss: 1.1922 - val_accuracy: 0.7322\n",
      "Epoch 8/50\n",
      "50000/50000 [==============================] - 56s 1ms/step - loss: 0.1242 - accuracy: 0.9569 - val_loss: 1.3249 - val_accuracy: 0.7428\n",
      "Epoch 9/50\n",
      "50000/50000 [==============================] - 57s 1ms/step - loss: 0.1073 - accuracy: 0.9645 - val_loss: 1.4488 - val_accuracy: 0.7418\n",
      "Epoch 10/50\n",
      "50000/50000 [==============================] - 58s 1ms/step - loss: 0.0951 - accuracy: 0.9674 - val_loss: 1.5870 - val_accuracy: 0.7345\n",
      "Epoch 11/50\n",
      "50000/50000 [==============================] - 60s 1ms/step - loss: 0.0866 - accuracy: 0.9711 - val_loss: 1.5892 - val_accuracy: 0.7329\n",
      "Epoch 12/50\n",
      "50000/50000 [==============================] - 60s 1ms/step - loss: 0.0838 - accuracy: 0.9722 - val_loss: 1.7964 - val_accuracy: 0.7360\n",
      "Epoch 13/50\n",
      "50000/50000 [==============================] - 58s 1ms/step - loss: 0.0798 - accuracy: 0.9744 - val_loss: 1.7797 - val_accuracy: 0.7330\n",
      "Epoch 14/50\n",
      "50000/50000 [==============================] - 56s 1ms/step - loss: 0.0751 - accuracy: 0.9760 - val_loss: 1.7046 - val_accuracy: 0.7375\n",
      "Epoch 15/50\n",
      "50000/50000 [==============================] - 55s 1ms/step - loss: 0.0691 - accuracy: 0.9784 - val_loss: 1.8933 - val_accuracy: 0.7322\n",
      "Epoch 16/50\n",
      "50000/50000 [==============================] - 55s 1ms/step - loss: 0.0699 - accuracy: 0.9775 - val_loss: 2.0208 - val_accuracy: 0.7346\n",
      "Epoch 17/50\n",
      "50000/50000 [==============================] - 54s 1ms/step - loss: 0.0670 - accuracy: 0.9793 - val_loss: 2.0360 - val_accuracy: 0.7308\n",
      "Epoch 18/50\n",
      "50000/50000 [==============================] - 55s 1ms/step - loss: 0.0633 - accuracy: 0.9795 - val_loss: 2.0375 - val_accuracy: 0.7300\n",
      "Epoch 19/50\n",
      "50000/50000 [==============================] - 56s 1ms/step - loss: 0.0638 - accuracy: 0.9805 - val_loss: 2.2050 - val_accuracy: 0.7347\n",
      "Epoch 20/50\n",
      "50000/50000 [==============================] - 56s 1ms/step - loss: 0.0688 - accuracy: 0.9795 - val_loss: 2.1577 - val_accuracy: 0.7288\n",
      "Epoch 21/50\n",
      "50000/50000 [==============================] - 55s 1ms/step - loss: 0.0621 - accuracy: 0.9806 - val_loss: 2.2245 - val_accuracy: 0.7273\n",
      "Epoch 22/50\n",
      "50000/50000 [==============================] - 55s 1ms/step - loss: 0.0582 - accuracy: 0.9823 - val_loss: 2.3456 - val_accuracy: 0.7264\n",
      "Epoch 23/50\n",
      "50000/50000 [==============================] - 55s 1ms/step - loss: 0.0578 - accuracy: 0.9818 - val_loss: 2.3045 - val_accuracy: 0.7312\n",
      "Epoch 24/50\n",
      "50000/50000 [==============================] - 55s 1ms/step - loss: 0.0635 - accuracy: 0.9822 - val_loss: 2.2227 - val_accuracy: 0.7351\n",
      "Epoch 25/50\n",
      "50000/50000 [==============================] - 55s 1ms/step - loss: 0.0572 - accuracy: 0.9833 - val_loss: 2.3495 - val_accuracy: 0.7354\n",
      "Epoch 26/50\n",
      "50000/50000 [==============================] - 54s 1ms/step - loss: 0.0543 - accuracy: 0.9845 - val_loss: 2.8541 - val_accuracy: 0.7091\n",
      "Epoch 27/50\n",
      "50000/50000 [==============================] - 54s 1ms/step - loss: 0.0583 - accuracy: 0.9835 - val_loss: 2.7415 - val_accuracy: 0.7117\n",
      "Epoch 28/50\n",
      "50000/50000 [==============================] - 54s 1ms/step - loss: 0.0551 - accuracy: 0.9844 - val_loss: 2.5725 - val_accuracy: 0.7310\n",
      "Epoch 29/50\n",
      "50000/50000 [==============================] - 54s 1ms/step - loss: 0.0531 - accuracy: 0.9852 - val_loss: 2.7561 - val_accuracy: 0.7343\n",
      "Epoch 30/50\n",
      "50000/50000 [==============================] - 54s 1ms/step - loss: 0.0501 - accuracy: 0.9854 - val_loss: 2.4963 - val_accuracy: 0.7318\n",
      "Epoch 31/50\n",
      "50000/50000 [==============================] - 54s 1ms/step - loss: 0.0541 - accuracy: 0.9843 - val_loss: 2.6957 - val_accuracy: 0.7230\n",
      "Epoch 32/50\n",
      "50000/50000 [==============================] - 56s 1ms/step - loss: 0.0564 - accuracy: 0.9845 - val_loss: 2.9768 - val_accuracy: 0.7292\n",
      "Epoch 33/50\n",
      "50000/50000 [==============================] - 57s 1ms/step - loss: 0.0535 - accuracy: 0.9849 - val_loss: 2.7772 - val_accuracy: 0.7327\n",
      "Epoch 34/50\n",
      "50000/50000 [==============================] - 55s 1ms/step - loss: 0.0479 - accuracy: 0.9867 - val_loss: 2.8838 - val_accuracy: 0.7264\n",
      "Epoch 35/50\n",
      "50000/50000 [==============================] - 55s 1ms/step - loss: 0.0496 - accuracy: 0.9860 - val_loss: 2.9742 - val_accuracy: 0.7271\n",
      "Epoch 36/50\n",
      "50000/50000 [==============================] - 55s 1ms/step - loss: 0.0569 - accuracy: 0.9851 - val_loss: 2.8711 - val_accuracy: 0.7259\n",
      "Epoch 37/50\n",
      "50000/50000 [==============================] - 55s 1ms/step - loss: 0.0505 - accuracy: 0.9865 - val_loss: 2.8660 - val_accuracy: 0.7317\n",
      "Epoch 38/50\n",
      "50000/50000 [==============================] - 55s 1ms/step - loss: 0.0512 - accuracy: 0.9869 - val_loss: 3.3384 - val_accuracy: 0.7287\n",
      "Epoch 39/50\n",
      "50000/50000 [==============================] - 55s 1ms/step - loss: 0.0511 - accuracy: 0.9871 - val_loss: 3.2901 - val_accuracy: 0.7211\n",
      "Epoch 40/50\n",
      "50000/50000 [==============================] - 55s 1ms/step - loss: 0.0448 - accuracy: 0.9877 - val_loss: 3.6361 - val_accuracy: 0.7217\n",
      "Epoch 41/50\n",
      "50000/50000 [==============================] - 58s 1ms/step - loss: 0.0552 - accuracy: 0.9863 - val_loss: 3.4720 - val_accuracy: 0.7212\n",
      "Epoch 42/50\n",
      "50000/50000 [==============================] - 58s 1ms/step - loss: 0.0479 - accuracy: 0.9877 - val_loss: 3.4146 - val_accuracy: 0.7262\n",
      "Epoch 43/50\n",
      "50000/50000 [==============================] - 57s 1ms/step - loss: 0.0498 - accuracy: 0.9874 - val_loss: 3.4322 - val_accuracy: 0.7192\n",
      "Epoch 44/50\n",
      "50000/50000 [==============================] - 56s 1ms/step - loss: 0.0443 - accuracy: 0.9886 - val_loss: 3.4393 - val_accuracy: 0.7254\n",
      "Epoch 45/50\n",
      "50000/50000 [==============================] - 55s 1ms/step - loss: 0.0558 - accuracy: 0.9865 - val_loss: 3.5896 - val_accuracy: 0.7253\n",
      "Epoch 46/50\n",
      "50000/50000 [==============================] - 55s 1ms/step - loss: 0.0530 - accuracy: 0.9878 - val_loss: 3.6892 - val_accuracy: 0.7301\n",
      "Epoch 47/50\n",
      "50000/50000 [==============================] - 56s 1ms/step - loss: 0.0479 - accuracy: 0.9889 - val_loss: 3.3754 - val_accuracy: 0.7299\n",
      "Epoch 48/50\n",
      "50000/50000 [==============================] - 58s 1ms/step - loss: 0.0410 - accuracy: 0.9893 - val_loss: 3.5294 - val_accuracy: 0.7289\n",
      "Epoch 49/50\n",
      "50000/50000 [==============================] - 55s 1ms/step - loss: 0.0526 - accuracy: 0.9875 - val_loss: 3.7245 - val_accuracy: 0.7214\n",
      "Epoch 50/50\n",
      "50000/50000 [==============================] - 54s 1ms/step - loss: 0.0487 - accuracy: 0.9882 - val_loss: 3.4368 - val_accuracy: 0.7298\n"
     ]
    }
   ],
   "source": [
    "trashPotato.compile(loss='categorical_crossentropy',\n",
    "              optimizer='adam',\n",
    "              metrics=['accuracy'])\n",
    "\n",
    "epochs = 50\n",
    "history = trashPotato.fit(trainX, \n",
    "                      trainY, \n",
    "                      epochs=epochs,  \n",
    "                      validation_data=(testX, testY),\n",
    "                      verbose=1)"
   ]
  },
  {
   "cell_type": "code",
   "execution_count": 37,
   "metadata": {
    "colab": {},
    "colab_type": "code",
    "id": "mjctzZwzzrA-"
   },
   "outputs": [
    {
     "name": "stdout",
     "output_type": "stream",
     "text": [
      "10000/10000 [==============================] - 1s 94us/step\n",
      "Long live the potato!\n",
      "Test accuracy: 0.10000000149011612\n",
      "Test Loss: 2.3026190574645997\n"
     ]
    }
   ],
   "source": [
    "test_loss , test_acc = potato.evaluate(testX, testY)\n",
    "\n",
    "print('Long live the potato!')\n",
    "print('Test accuracy:', test_acc)\n",
    "print('Test Loss:', test_loss)"
   ]
  },
  {
   "cell_type": "code",
   "execution_count": 38,
   "metadata": {
    "colab": {},
    "colab_type": "code",
    "id": "jtGNHQTjzvPK"
   },
   "outputs": [
    {
     "data": {
      "image/png": "[encoded data removed]",
      "text/plain": [
       "<Figure size 432x288 with 1 Axes>"
      ]
     },
     "metadata": {
      "needs_background": "light"
     },
     "output_type": "display_data"
    }
   ],
   "source": [
    "histoire = history.history\n",
    "loss_values = histoire['loss']\n",
    "test_loss_values = histoire['val_loss']\n",
    "epochs_range = range(1, epochs + 1)\n",
    "\n",
    "plt.plot(epochs_range, loss_values, 'bo', label='Training loss')\n",
    "plt.plot(epochs_range, test_loss_values, 'ro', label='Test loss')\n",
    "plt.title('Training and test loss')\n",
    "plt.xlabel('Epochs')\n",
    "plt.ylabel('Loss')\n",
    "plt.legend()\n",
    "plt.show()"
   ]
  },
  {
   "cell_type": "markdown",
   "metadata": {
    "colab_type": "text",
    "id": "R7dAcn_j0uuG"
   },
   "source": [
    "# Good model"
   ]
  },
  {
   "cell_type": "code",
   "execution_count": 28,
   "metadata": {
    "colab": {
     "base_uri": "https://localhost:8080/",
     "height": 262
    },
    "colab_type": "code",
    "id": "Kv_zpoVm0vGp",
    "outputId": "82c50fa0-439d-4bfc-e363-6ebbe8d450a5"
   },
   "outputs": [],
   "source": [
    "model = keras.Sequential([\n",
    "    keras.layers.Conv2D(32, (3, 3), padding='same',input_shape=trainX.shape[1:],activation=tf.nn.relu),\n",
    "    keras.layers.Conv2D(32, (3, 3), padding='same',activation=tf.nn.relu),\n",
    "    keras.layers.MaxPooling2D(pool_size=(2, 2)),\n",
    "    keras.layers.Dropout(0.25),\n",
    "    keras.layers.Conv2D(64, (3, 3), padding='same',input_shape=trainX.shape[1:],activation=tf.nn.relu),\n",
    "    keras.layers.Conv2D(64, (3, 3), padding='same',activation=tf.nn.relu),\n",
    "    keras.layers.MaxPooling2D(pool_size=(2, 2)),\n",
    "    keras.layers.Dropout(0.25),\n",
    "    keras.layers.Flatten(),\n",
    "    keras.layers.Dense(512, activation=tf.nn.relu),\n",
    "    keras.layers.Dropout(0.4),\n",
    "    keras.layers.Dense(10, activation=tf.nn.softmax)\n",
    "])"
   ]
  },
  {
   "cell_type": "code",
   "execution_count": 29,
   "metadata": {
    "colab": {},
    "colab_type": "code",
    "id": "YEb39oMo09gl"
   },
   "outputs": [
    {
     "name": "stdout",
     "output_type": "stream",
     "text": [
      "Train on 50000 samples, validate on 10000 samples\n",
      "Epoch 1/40\n",
      "50000/50000 [==============================] - 55s 1ms/step - loss: 1.7657 - accuracy: 0.3557 - val_loss: 1.5041 - val_accuracy: 0.4669\n",
      "Epoch 2/40\n",
      "50000/50000 [==============================] - 54s 1ms/step - loss: 1.4297 - accuracy: 0.4847 - val_loss: 1.2619 - val_accuracy: 0.5570\n",
      "Epoch 3/40\n",
      "50000/50000 [==============================] - 56s 1ms/step - loss: 1.2726 - accuracy: 0.5467 - val_loss: 1.2117 - val_accuracy: 0.5670\n",
      "Epoch 4/40\n",
      "50000/50000 [==============================] - 53s 1ms/step - loss: 1.1639 - accuracy: 0.5876 - val_loss: 1.0963 - val_accuracy: 0.6154\n",
      "Epoch 5/40\n",
      "50000/50000 [==============================] - 54s 1ms/step - loss: 1.0755 - accuracy: 0.6194 - val_loss: 0.9959 - val_accuracy: 0.6482\n",
      "Epoch 6/40\n",
      "50000/50000 [==============================] - 55s 1ms/step - loss: 1.0100 - accuracy: 0.6437 - val_loss: 0.9354 - val_accuracy: 0.6673\n",
      "Epoch 7/40\n",
      "50000/50000 [==============================] - 56s 1ms/step - loss: 0.9528 - accuracy: 0.6651 - val_loss: 0.9334 - val_accuracy: 0.6725\n",
      "Epoch 8/40\n",
      "50000/50000 [==============================] - 57s 1ms/step - loss: 0.9069 - accuracy: 0.6818 - val_loss: 0.8978 - val_accuracy: 0.6787\n",
      "Epoch 9/40\n",
      "50000/50000 [==============================] - 54s 1ms/step - loss: 0.8640 - accuracy: 0.6961 - val_loss: 0.8648 - val_accuracy: 0.6974\n",
      "Epoch 10/40\n",
      "50000/50000 [==============================] - 54s 1ms/step - loss: 0.8257 - accuracy: 0.7115 - val_loss: 0.8141 - val_accuracy: 0.7141\n",
      "Epoch 11/40\n",
      "50000/50000 [==============================] - 55s 1ms/step - loss: 0.7964 - accuracy: 0.7208 - val_loss: 0.7979 - val_accuracy: 0.7229\n",
      "Epoch 12/40\n",
      "50000/50000 [==============================] - 53s 1ms/step - loss: 0.7678 - accuracy: 0.7328 - val_loss: 0.7677 - val_accuracy: 0.7363\n",
      "Epoch 13/40\n",
      "50000/50000 [==============================] - 53s 1ms/step - loss: 0.7445 - accuracy: 0.7435 - val_loss: 0.7543 - val_accuracy: 0.7372\n",
      "Epoch 14/40\n",
      "50000/50000 [==============================] - 54s 1ms/step - loss: 0.7287 - accuracy: 0.7486 - val_loss: 0.7293 - val_accuracy: 0.7467\n",
      "Epoch 15/40\n",
      "50000/50000 [==============================] - 53s 1ms/step - loss: 0.7108 - accuracy: 0.7553 - val_loss: 0.7211 - val_accuracy: 0.7505\n",
      "Epoch 16/40\n",
      "50000/50000 [==============================] - 53s 1ms/step - loss: 0.6992 - accuracy: 0.7593 - val_loss: 0.7275 - val_accuracy: 0.7523\n",
      "Epoch 17/40\n",
      "50000/50000 [==============================] - 54s 1ms/step - loss: 0.6825 - accuracy: 0.7649 - val_loss: 0.7113 - val_accuracy: 0.7587\n",
      "Epoch 18/40\n",
      "50000/50000 [==============================] - 54s 1ms/step - loss: 0.6706 - accuracy: 0.7696 - val_loss: 0.7255 - val_accuracy: 0.7533\n",
      "Epoch 19/40\n",
      "50000/50000 [==============================] - 54s 1ms/step - loss: 0.6659 - accuracy: 0.7708 - val_loss: 0.6787 - val_accuracy: 0.7669\n",
      "Epoch 20/40\n",
      "50000/50000 [==============================] - 53s 1ms/step - loss: 0.6597 - accuracy: 0.7755 - val_loss: 0.6966 - val_accuracy: 0.7632\n",
      "Epoch 21/40\n",
      "50000/50000 [==============================] - 53s 1ms/step - loss: 0.6516 - accuracy: 0.7779 - val_loss: 0.7098 - val_accuracy: 0.7575\n",
      "Epoch 22/40\n",
      "50000/50000 [==============================] - 54s 1ms/step - loss: 0.6450 - accuracy: 0.7818 - val_loss: 0.6970 - val_accuracy: 0.7646\n",
      "Epoch 23/40\n",
      "50000/50000 [==============================] - 57s 1ms/step - loss: 0.6433 - accuracy: 0.7828 - val_loss: 0.6692 - val_accuracy: 0.7706\n",
      "Epoch 24/40\n",
      "50000/50000 [==============================] - 58s 1ms/step - loss: 0.6329 - accuracy: 0.7864 - val_loss: 0.6838 - val_accuracy: 0.7707\n",
      "Epoch 25/40\n",
      "50000/50000 [==============================] - 60s 1ms/step - loss: 0.6325 - accuracy: 0.7855 - val_loss: 0.6811 - val_accuracy: 0.7703\n",
      "Epoch 26/40\n",
      "50000/50000 [==============================] - 57s 1ms/step - loss: 0.6270 - accuracy: 0.7882 - val_loss: 0.6830 - val_accuracy: 0.7727\n",
      "Epoch 27/40\n",
      "50000/50000 [==============================] - 55s 1ms/step - loss: 0.6210 - accuracy: 0.7877 - val_loss: 0.6542 - val_accuracy: 0.7790\n",
      "Epoch 28/40\n",
      "50000/50000 [==============================] - 55s 1ms/step - loss: 0.6217 - accuracy: 0.7898 - val_loss: 0.6914 - val_accuracy: 0.7640\n",
      "Epoch 29/40\n",
      "50000/50000 [==============================] - 55s 1ms/step - loss: 0.6174 - accuracy: 0.7899 - val_loss: 0.6834 - val_accuracy: 0.7745\n",
      "Epoch 30/40\n",
      "50000/50000 [==============================] - 55s 1ms/step - loss: 0.6172 - accuracy: 0.7929 - val_loss: 0.6864 - val_accuracy: 0.7713\n",
      "Epoch 31/40\n",
      "50000/50000 [==============================] - 54s 1ms/step - loss: 0.6134 - accuracy: 0.7929 - val_loss: 0.6638 - val_accuracy: 0.7789\n",
      "Epoch 32/40\n",
      "50000/50000 [==============================] - 54s 1ms/step - loss: 0.6060 - accuracy: 0.7965 - val_loss: 0.6878 - val_accuracy: 0.7745\n",
      "Epoch 33/40\n",
      "50000/50000 [==============================] - 54s 1ms/step - loss: 0.6020 - accuracy: 0.7952 - val_loss: 0.7029 - val_accuracy: 0.7792\n",
      "Epoch 34/40\n",
      "50000/50000 [==============================] - 54s 1ms/step - loss: 0.6033 - accuracy: 0.7952 - val_loss: 0.6574 - val_accuracy: 0.7785\n",
      "Epoch 35/40\n",
      "50000/50000 [==============================] - 54s 1ms/step - loss: 0.6029 - accuracy: 0.7982 - val_loss: 0.6328 - val_accuracy: 0.7852\n",
      "Epoch 36/40\n",
      "50000/50000 [==============================] - 56s 1ms/step - loss: 0.6020 - accuracy: 0.7977 - val_loss: 0.6574 - val_accuracy: 0.7808\n",
      "Epoch 37/40\n",
      "50000/50000 [==============================] - 56s 1ms/step - loss: 0.5973 - accuracy: 0.7997 - val_loss: 0.6383 - val_accuracy: 0.7811\n",
      "Epoch 38/40\n",
      "50000/50000 [==============================] - 56s 1ms/step - loss: 0.5948 - accuracy: 0.8013 - val_loss: 0.6642 - val_accuracy: 0.7787\n",
      "Epoch 39/40\n",
      "50000/50000 [==============================] - 57s 1ms/step - loss: 0.5890 - accuracy: 0.8029 - val_loss: 0.6708 - val_accuracy: 0.7809\n",
      "Epoch 40/40\n",
      "50000/50000 [==============================] - 58s 1ms/step - loss: 0.5914 - accuracy: 0.8015 - val_loss: 0.6761 - val_accuracy: 0.7777\n"
     ]
    }
   ],
   "source": [
    "opti = keras.optimizers.RMSprop(learning_rate=0.0001, decay=1e-6)\n",
    "\n",
    "model.compile(loss='categorical_crossentropy',\n",
    "              optimizer=opti,\n",
    "              metrics=['accuracy'])\n",
    "\n",
    "epochs = 40\n",
    "history = model.fit(trainX, \n",
    "                      trainY, \n",
    "                      epochs=epochs,  \n",
    "                      validation_data=(testX, testY),\n",
    "                      verbose=1)"
   ]
  },
  {
   "cell_type": "code",
   "execution_count": 30,
   "metadata": {
    "colab": {},
    "colab_type": "code",
    "id": "Jq37PGiF0-4z"
   },
   "outputs": [
    {
     "name": "stdout",
     "output_type": "stream",
     "text": [
      "10000/10000 [==============================] - 1s 89us/step\n",
      "Long live the potato!\n",
      "Test accuracy: 0.10000000149011612\n",
      "Test Loss: 2.3026190574645997\n"
     ]
    }
   ],
   "source": [
    "test_loss , test_acc = potato.evaluate(testX, testY)\n",
    "\n",
    "print('Long live the potato!')\n",
    "print('Test accuracy:', test_acc)\n",
    "print('Test Loss:', test_loss)"
   ]
  },
  {
   "cell_type": "code",
   "execution_count": 31,
   "metadata": {
    "colab": {},
    "colab_type": "code",
    "id": "tCHhEelS1AWi"
   },
   "outputs": [
    {
     "data": {
      "image/png": "[encoded data removed]",
      "text/plain": [
       "<Figure size 432x288 with 1 Axes>"
      ]
     },
     "metadata": {
      "needs_background": "light"
     },
     "output_type": "display_data"
    }
   ],
   "source": [
    "histoire = history.history\n",
    "loss_values = histoire['loss']\n",
    "test_loss_values = histoire['val_loss']\n",
    "epochs_range = range(1, epochs + 1)\n",
    "\n",
    "plt.plot(epochs_range, loss_values, 'bo', label='Training loss')\n",
    "plt.plot(epochs_range, test_loss_values, 'ro', label='Test loss')\n",
    "plt.title('Training and test loss')\n",
    "plt.xlabel('Epochs')\n",
    "plt.ylabel('Loss')\n",
    "plt.legend()\n",
    "plt.show()"
   ]
  },
  {
   "cell_type": "code",
   "execution_count": 0,
   "metadata": {
    "colab": {},
    "colab_type": "code",
    "id": "krgoArNVl-Pq"
   },
   "outputs": [],
   "source": []
  }
 ],
 "metadata": {
  "colab": {
   "name": "Problem3.ipynb",
   "provenance": []
  },
  "kernelspec": {
   "display_name": "Python 3",
   "language": "python",
   "name": "python3"
  },
  "language_info": {
   "codemirror_mode": {
    "name": "ipython",
    "version": 3
   },
   "file_extension": ".py",
   "mimetype": "text/x-python",
   "name": "python",
   "nbconvert_exporter": "python",
   "pygments_lexer": "ipython3",
   "version": "3.7.4"
  }
 },
 "nbformat": 4,
 "nbformat_minor": 1
}
